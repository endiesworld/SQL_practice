{
 "cells": [
  {
   "cell_type": "markdown",
   "metadata": {},
   "source": [
    "# Using Notebook Environments to Interact with SQL\n",
    "© Explore Data Science Academy\n",
    "\n",
    "## Learning Objectives\n",
    "\n",
    "In this train, you will learn:\n",
    "- How to setup a SQL environment in jupyter notebooks, particularly:\n",
    "    - Serverless SQL - connecting to a database file (SQLite)\n",
    "    - Client-server SQL - connecting to a database in a SQL server (MySQL)\n",
    "- How to run SQL queries in Jupyter notebook cells.\n",
    "- How to list all available tables in a database.\n",
    "\n",
    "\n",
    "## Outline\n",
    "\n",
    "To do this, we'll go through the following: \n",
    "- Interfacing with SQL Using Magic Commands;\n",
    "- Connecting to a SQL server database;\n",
    "- Connecting to a serverless SQL database;\n",
    "- Listing the tables in a database; and, \n",
    "- Running SQL queries."
   ]
  },
  {
   "cell_type": "markdown",
   "metadata": {},
   "source": [
    "## SQL Architechtures\n",
    "\n",
    "There are generally two common architectures for interacting with SQL databases:\n",
    "- Client-server SQL - database systems that require separate server processes to function. In such cases, the user sets up a connection (typically with user credentials) to the server to interact with a database within it. The server can be located locally on the user's computer or remotely (i.e. on a cloud computer). Examples of  RDBMS (Relational Database Management Systems) that work this way include Microsoft SQL server, MySQL, PostgreSQL, etc.\n",
    "\n",
    "\n",
    "- Serverless SQL - these systems allow the user to interact directly with the target SQL database, i.e., the SQL database is a file that gets loaded onto the application and can be read or written to using SQL queries. The specific flavour of serverless SQL we will use in this course is SQLite - a portable, serverless, and self-contained version of SQL. Instead of needing to connect to a SQL server for database access, SQLite loads a database from a single `.db` file, this file can be treated in a fashion similar to that of any other data file (e.g. a CSV) with the exception that we read and write to the file using SQL queries."
   ]
  },
  {
   "cell_type": "markdown",
   "metadata": {},
   "source": [
    "![SQL Architechtures](https://raw.githubusercontent.com/Explore-AI/Pictures/master/sql-architectures.png)"
   ]
  },
  {
   "cell_type": "markdown",
   "metadata": {},
   "source": [
    "In this train, we will explore both setups in the context of jupyter notebooks. Before we discuss these setups though, let's first discuss magic functions.\n",
    "\n",
    "## Interfacing with SQL Using Magic Commands\n",
    "\n",
    "[\"Magic\" commands](https://ipython.readthedocs.io/en/stable/interactive/magics.html) are special commands that are used to enhance the behaviour of IPython. In order to get our notebook to process SQL within each of our cells, we make use of IPython \"magic\" commands specifically for SQL. These are provided by the [ipython-sql](https://pypi.org/project/ipython-sql/) library. \n",
    "\n",
    "To enable these magic commands, we will give a once-off initialisation command: `%load_ext sql`"
   ]
  },
  {
   "cell_type": "markdown",
   "metadata": {},
   "source": [
    "Next, let's discuss the dependencies for each type of SQL database setup."
   ]
  },
  {
   "cell_type": "markdown",
   "metadata": {},
   "source": [
    "## 1. Connecting to a SQL server database \n",
    "\n",
    "To connect to a MySQL server database and use our jupyter notebook as a client application, we first need to install some dependencies. This includes the following Python modules: \n",
    " - Running ***locally***: Once-off installations\n",
    "      - `pip install sqlalchemy`\n",
    "      - `pip install ipython-sql`\n",
    "      - `pip install pymysql`\n",
    "\n",
    " - Running on ***Google Colab***: For each notebook \n",
    "      - `pip install pymysql`\n",
    "\n",
    "Assuming, you have a local SQL server installed or have access to credentials to a remote SQL server (e.g. AWS RDS), you can connect to it using a connection string of the following form:"
   ]
  },
  {
   "cell_type": "markdown",
   "metadata": {},
   "source": [
    "`%sql mysql+pymysql://{USER}:{PASSWORD}@{HOST}:{PORT}/{DATABASE}`"
   ]
  },
  {
   "cell_type": "markdown",
   "metadata": {},
   "source": [
    "In practice, you will need to replace the elements of the database url in the connection string with your given credentials, i.e.:\n",
    "```\n",
    "USER - username\n",
    "PASSWORD - password\n",
    "HOST - ip address or hostname\n",
    "PORT - server port number\n",
    "DATABASE - name of database\n",
    "```\n",
    "\n",
    "We will explore how to connect to a SQL server from a jupyter notebook in detail in later trains. "
   ]
  },
  {
   "cell_type": "markdown",
   "metadata": {
    "colab_type": "text",
    "id": "qPfF2Sn50r_H"
   },
   "source": [
    "## 2. Connecting to a serverless SQL database\n",
    "\n",
    "We can connect to a SQLite database as follows: \n",
    "\n",
    "1. We need to install some dependencies. This includes the following Python modules: \n",
    "\n",
    " - Running ***locally***: Once-off installations\n",
    "      - `pip install sqlalchemy`\n",
    "      - `pip install ipython-sql`\n",
    "      - `pip install pymysql`\n",
    "\n",
    " - Running on ***Google Colab***: \n",
    "      - no dependencies required\n",
    "      \n",
    "\n",
    "2. Next, we need a SQLite database file (i.e. with a `.db` file extension) to connect to. For this purpose, the `chinook.db` file has been provided, download it from Athena and place it in the same folder as this notebook or some other known location.\n",
    "\n",
    "After installing the dependencies and downloading the database file, we can now connect to our DB."
   ]
  },
  {
   "cell_type": "markdown",
   "metadata": {
    "colab_type": "text",
    "id": "OG8JGgwQ0Mu6"
   },
   "source": [
    "To do this, we simply call an inline magic command `%sql` followed by a [SQLAlchemy-formatted](https://docs.sqlalchemy.org/en/13/core/engines.html#sqlite) DB connection string, i.e.: \n",
    "\n",
    "---\n",
    "`%sql sqlite:////path_to_database_file.db`\n",
    "\n",
    "    Valid SQLite URL forms are:\n",
    "     sqlite:///:memory: (or, sqlite://)\n",
    "     sqlite:///relative/path/to/file.db\n",
    "     sqlite:////absolute/path/to/file.db\n",
    "\n",
    "Let's put this into practice by connecting to and querying a SQLite database."
   ]
  },
  {
   "cell_type": "markdown",
   "metadata": {},
   "source": [
    "## Listing Database Tables\n",
    "Before we start we need to load our SQL magic commands (we only need do this once per notebook):"
   ]
  },
  {
   "cell_type": "code",
   "execution_count": 1,
   "metadata": {},
   "outputs": [],
   "source": [
    "%load_ext sql"
   ]
  },
  {
   "cell_type": "markdown",
   "metadata": {},
   "source": [
    "If the `chinook.db` file is saved in the same folder as this notebook, then it can be loaded into the notebook as follows:"
   ]
  },
  {
   "cell_type": "code",
   "execution_count": 2,
   "metadata": {},
   "outputs": [],
   "source": [
    "# Load SQLite database\n",
    "%sql sqlite:///TMDB.db"
   ]
  },
  {
   "cell_type": "markdown",
   "metadata": {
    "colab_type": "text",
    "id": "taMud4sk908N"
   },
   "source": [
    "If your connection is successful, then you should be able to interact with the DB using standard SQL syntax (provided that you prepend every SQL jupyter cell with `%%sql`)."
   ]
  },
  {
   "cell_type": "markdown",
   "metadata": {},
   "source": [
    "Before we can run SQL queries, we need to understand what tables exist in the database. This can be achieved by using the following SQL query.\n",
    "\n",
    "*Note: This query will make more sense as you learn more about SQL queries throughout the course. Your takeaway here is that we had to prepend a jupyter notebook cell with `%%sql` in order to run a SQL query.*"
   ]
  },
  {
   "cell_type": "code",
   "execution_count": 3,
   "metadata": {},
   "outputs": [
    {
     "name": "stdout",
     "output_type": "stream",
     "text": [
      " * sqlite:///TMDB.db\n",
      "Done.\n"
     ]
    },
    {
     "data": {
      "text/html": [
       "<table>\n",
       "    <tr>\n",
       "        <th>name</th>\n",
       "    </tr>\n",
       "    <tr>\n",
       "        <td>actors</td>\n",
       "    </tr>\n",
       "    <tr>\n",
       "        <td>casts</td>\n",
       "    </tr>\n",
       "    <tr>\n",
       "        <td>genremap</td>\n",
       "    </tr>\n",
       "    <tr>\n",
       "        <td>genres</td>\n",
       "    </tr>\n",
       "    <tr>\n",
       "        <td>keywordmap</td>\n",
       "    </tr>\n",
       "    <tr>\n",
       "        <td>keywords</td>\n",
       "    </tr>\n",
       "    <tr>\n",
       "        <td>languagemap</td>\n",
       "    </tr>\n",
       "    <tr>\n",
       "        <td>languages</td>\n",
       "    </tr>\n",
       "    <tr>\n",
       "        <td>movies</td>\n",
       "    </tr>\n",
       "    <tr>\n",
       "        <td>oscars</td>\n",
       "    </tr>\n",
       "    <tr>\n",
       "        <td>productioncompanies</td>\n",
       "    </tr>\n",
       "    <tr>\n",
       "        <td>productioncompanymap</td>\n",
       "    </tr>\n",
       "    <tr>\n",
       "        <td>productioncountries</td>\n",
       "    </tr>\n",
       "    <tr>\n",
       "        <td>productioncountrymap</td>\n",
       "    </tr>\n",
       "    <tr>\n",
       "        <td>sysdiagrams</td>\n",
       "    </tr>\n",
       "</table>"
      ],
      "text/plain": [
       "[('actors',),\n",
       " ('casts',),\n",
       " ('genremap',),\n",
       " ('genres',),\n",
       " ('keywordmap',),\n",
       " ('keywords',),\n",
       " ('languagemap',),\n",
       " ('languages',),\n",
       " ('movies',),\n",
       " ('oscars',),\n",
       " ('productioncompanies',),\n",
       " ('productioncompanymap',),\n",
       " ('productioncountries',),\n",
       " ('productioncountrymap',),\n",
       " ('sysdiagrams',)]"
      ]
     },
     "execution_count": 3,
     "metadata": {},
     "output_type": "execute_result"
    }
   ],
   "source": [
    "%%sql\n",
    "SELECT name FROM sqlite_master WHERE type IN ('table','view') AND name NOT LIKE 'sqlite_%' ORDER BY 1"
   ]
  },
  {
   "cell_type": "code",
   "execution_count": 7,
   "metadata": {
    "colab": {
     "base_uri": "https://localhost:8080/",
     "height": 158
    },
    "colab_type": "code",
    "id": "eYrkJIrrJur-",
    "outputId": "878857a7-4c31-479d-8f46-ea1c02219c1a"
   },
   "outputs": [
    {
     "name": "stdout",
     "output_type": "stream",
     "text": [
      " * sqlite:///TMDB.db\n",
      "Done.\n"
     ]
    },
    {
     "data": {
      "text/html": [
       "<table>\n",
       "    <tr>\n",
       "        <th>movie_id</th>\n",
       "        <th>title</th>\n",
       "        <th>release_date</th>\n",
       "        <th>budget</th>\n",
       "        <th>homepage</th>\n",
       "        <th>original_language</th>\n",
       "        <th>original_title</th>\n",
       "        <th>overview</th>\n",
       "        <th>popularity</th>\n",
       "        <th>revenue</th>\n",
       "        <th>runtime</th>\n",
       "        <th>release_status</th>\n",
       "        <th>tagline</th>\n",
       "        <th>vote_average</th>\n",
       "        <th>vote_count</th>\n",
       "    </tr>\n",
       "    <tr>\n",
       "        <td>5</td>\n",
       "        <td>Four Rooms</td>\n",
       "        <td>1995-12-09 00:00:00.000000</td>\n",
       "        <td>4000000</td>\n",
       "        <td>None</td>\n",
       "        <td>en</td>\n",
       "        <td>Four Rooms</td>\n",
       "        <td>It&#x27;s Ted the Bellhop&#x27;s first night on the job...and the hotel&#x27;s very unusual guests are about to place him in some outrageous predicaments. It seems that this evening&#x27;s room service is serving up one unbelievable happening after another.</td>\n",
       "        <td>22.87623</td>\n",
       "        <td>4300000.0</td>\n",
       "        <td>98.0</td>\n",
       "        <td>Released</td>\n",
       "        <td>Twelve outrageous guests. Four scandalous requests. And one lone bellhop, in his first day on the job, who&#x27;s in for the wildest New year&#x27;s Eve of his life.</td>\n",
       "        <td>6.5</td>\n",
       "        <td>530</td>\n",
       "    </tr>\n",
       "</table>"
      ],
      "text/plain": [
       "[(5, 'Four Rooms', '1995-12-09 00:00:00.000000', 4000000, None, 'en', 'Four Rooms', \"It's Ted the Bellhop's first night on the job...and the hotel's very unusual guests are about to place him in some outrageous predicaments. It seems that this evening's room service is serving up one unbelievable happening after another.\", 22.87623, 4300000.0, 98.0, 'Released', \"Twelve outrageous guests. Four scandalous requests. And one lone bellhop, in his first day on the job, who's in for the wildest New year's Eve of his life.\", 6.5, 530)]"
      ]
     },
     "execution_count": 7,
     "metadata": {},
     "output_type": "execute_result"
    }
   ],
   "source": [
    "%%sql\n",
    "SELECT * FROM movies\n",
    "LIMIT 1"
   ]
  },
  {
   "cell_type": "code",
   "execution_count": 9,
   "metadata": {},
   "outputs": [
    {
     "name": "stdout",
     "output_type": "stream",
     "text": [
      " * sqlite:///TMDB.db\n",
      "Done.\n"
     ]
    },
    {
     "data": {
      "text/html": [
       "<table>\n",
       "    <tr>\n",
       "        <th>budget</th>\n",
       "    </tr>\n",
       "    <tr>\n",
       "        <td>160000000</td>\n",
       "    </tr>\n",
       "</table>"
      ],
      "text/plain": [
       "[(160000000,)]"
      ]
     },
     "execution_count": 9,
     "metadata": {},
     "output_type": "execute_result"
    }
   ],
   "source": [
    "%%sql\n",
    "-- Budget of movie inception\n",
    "SELECT budget\n",
    "FROM movies\n",
    "WHERE lower(title) = ('inception')"
   ]
  },
  {
   "cell_type": "code",
   "execution_count": 10,
   "metadata": {},
   "outputs": [
    {
     "name": "stdout",
     "output_type": "stream",
     "text": [
      " * sqlite:///TMDB.db\n",
      "Done.\n"
     ]
    },
    {
     "data": {
      "text/html": [
       "<table>\n",
       "    <tr>\n",
       "        <th>runtime</th>\n",
       "    </tr>\n",
       "    <tr>\n",
       "        <td>194.0</td>\n",
       "    </tr>\n",
       "</table>"
      ],
      "text/plain": [
       "[(194.0,)]"
      ]
     },
     "execution_count": 10,
     "metadata": {},
     "output_type": "execute_result"
    }
   ],
   "source": [
    "%%sql\n",
    "--What is the runtime of the movie \"Titanic\"?\n",
    "SELECT runtime\n",
    "FROM movies\n",
    "WHERE lower(title) = 'titanic'"
   ]
  },
  {
   "cell_type": "code",
   "execution_count": 15,
   "metadata": {},
   "outputs": [
    {
     "name": "stdout",
     "output_type": "stream",
     "text": [
      " * sqlite:///TMDB.db\n",
      "Done.\n"
     ]
    },
    {
     "data": {
      "text/html": [
       "<table>\n",
       "    <tr>\n",
       "        <th>COUNT(*)</th>\n",
       "    </tr>\n",
       "    <tr>\n",
       "        <td>298</td>\n",
       "    </tr>\n",
       "</table>"
      ],
      "text/plain": [
       "[(298,)]"
      ]
     },
     "execution_count": 15,
     "metadata": {},
     "output_type": "execute_result"
    }
   ],
   "source": [
    "%%sql\n",
    "--How many movies do not have English as their original language? (Hint: “en” is the abbreviation for English)\n",
    "SELECT COUNT(*)\n",
    "FROM movies\n",
    "WHERE lower(original_language) NOT LIKE '%en%' "
   ]
  },
  {
   "cell_type": "code",
   "execution_count": 17,
   "metadata": {},
   "outputs": [
    {
     "name": "stdout",
     "output_type": "stream",
     "text": [
      " * sqlite:///TMDB.db\n",
      "Done.\n"
     ]
    },
    {
     "data": {
      "text/html": [
       "<table>\n",
       "    <tr>\n",
       "        <th>COUNT(*)</th>\n",
       "    </tr>\n",
       "    <tr>\n",
       "        <td>7</td>\n",
       "    </tr>\n",
       "</table>"
      ],
      "text/plain": [
       "[(7,)]"
      ]
     },
     "execution_count": 17,
     "metadata": {},
     "output_type": "execute_result"
    }
   ],
   "source": [
    "%%sql\n",
    "--How many movies are there that have a popularity score of more than 250?\n",
    "SELECT COUNT(*)\n",
    "FROM movies\n",
    "WHERE popularity > 250"
   ]
  },
  {
   "cell_type": "code",
   "execution_count": 25,
   "metadata": {},
   "outputs": [
    {
     "name": "stdout",
     "output_type": "stream",
     "text": [
      " * sqlite:///TMDB.db\n",
      "Done.\n"
     ]
    },
    {
     "data": {
      "text/html": [
       "<table>\n",
       "    <tr>\n",
       "        <th>COUNT (DISTINCT movie_id)</th>\n",
       "    </tr>\n",
       "    <tr>\n",
       "        <td>175</td>\n",
       "    </tr>\n",
       "</table>"
      ],
      "text/plain": [
       "[(175,)]"
      ]
     },
     "execution_count": 25,
     "metadata": {},
     "output_type": "execute_result"
    }
   ],
   "source": [
    "%%sql\n",
    "--How many movies are there where the title is not the same as the original title?\n",
    "SELECT COUNT (DISTINCT movie_id)\n",
    "FROM movies\n",
    "WHERE lower(title) != lower(original_title) AND original_title NOT LIKE '%?%'\n",
    "LIMIT 5"
   ]
  },
  {
   "cell_type": "code",
   "execution_count": 26,
   "metadata": {},
   "outputs": [
    {
     "name": "stdout",
     "output_type": "stream",
     "text": [
      " * sqlite:///TMDB.db\n",
      "Done.\n"
     ]
    },
    {
     "data": {
      "text/html": [
       "<table>\n",
       "    <tr>\n",
       "        <th>COUNT(*)</th>\n",
       "    </tr>\n",
       "    <tr>\n",
       "        <td>5</td>\n",
       "    </tr>\n",
       "</table>"
      ],
      "text/plain": [
       "[(5,)]"
      ]
     },
     "execution_count": 26,
     "metadata": {},
     "output_type": "execute_result"
    }
   ],
   "source": [
    "%%sql\n",
    "--How many movies are there that managed to get a popularity rating of more than 100 with a budget of less than $10 000 000?\n",
    "SELECT COUNT(*)\n",
    "FROM movies\n",
    "WHERE popularity > 100 AND budget < 10000000"
   ]
  },
  {
   "cell_type": "code",
   "execution_count": 27,
   "metadata": {},
   "outputs": [
    {
     "name": "stdout",
     "output_type": "stream",
     "text": [
      " * sqlite:///TMDB.db\n",
      "Done.\n"
     ]
    },
    {
     "data": {
      "text/html": [
       "<table>\n",
       "    <tr>\n",
       "        <th>COUNT(movie_id)</th>\n",
       "    </tr>\n",
       "    <tr>\n",
       "        <td>71</td>\n",
       "    </tr>\n",
       "</table>"
      ],
      "text/plain": [
       "[(71,)]"
      ]
     },
     "execution_count": 27,
     "metadata": {},
     "output_type": "execute_result"
    }
   ],
   "source": [
    "%%sql\n",
    "--How many movies are there that have the word ‘love’ anywhere in the title? (Hint: The L in the word love can be upper or \n",
    "--lower case and can be included in words such as ‘lovers’.)\n",
    "SELECT COUNT(movie_id)\n",
    "FROM movies\n",
    "WHERE lower(title) LIKE '%love%'"
   ]
  },
  {
   "cell_type": "code",
   "execution_count": 29,
   "metadata": {},
   "outputs": [
    {
     "name": "stdout",
     "output_type": "stream",
     "text": [
      " * sqlite:///TMDB.db\n",
      "Done.\n"
     ]
    },
    {
     "data": {
      "text/html": [
       "<table>\n",
       "    <tr>\n",
       "        <th>COUNT(*)</th>\n",
       "    </tr>\n",
       "    <tr>\n",
       "        <td>227</td>\n",
       "    </tr>\n",
       "</table>"
      ],
      "text/plain": [
       "[(227,)]"
      ]
     },
     "execution_count": 29,
     "metadata": {},
     "output_type": "execute_result"
    }
   ],
   "source": [
    "%%sql\n",
    "--How many movies were released between the dates 1 August 2012 and 31 July 2013?\n",
    "SELECT COUNT(*)\n",
    "FROM movies\n",
    "WHERE release_date BETWEEN '2012-08-01' AND '2013-07-31'"
   ]
  },
  {
   "cell_type": "code",
   "execution_count": 34,
   "metadata": {},
   "outputs": [
    {
     "name": "stdout",
     "output_type": "stream",
     "text": [
      " * sqlite:///TMDB.db\n",
      "Done.\n"
     ]
    },
    {
     "data": {
      "text/html": [
       "<table>\n",
       "    <tr>\n",
       "        <th>movie_id</th>\n",
       "        <th>title</th>\n",
       "        <th>original_title</th>\n",
       "        <th>budget</th>\n",
       "        <th>popularity</th>\n",
       "    </tr>\n",
       "    <tr>\n",
       "        <td>50646</td>\n",
       "        <td>Crazy, Stupid, Love.</td>\n",
       "        <td>Crazy, Stupid, Love.</td>\n",
       "        <td>50000000</td>\n",
       "        <td>37.990705</td>\n",
       "    </tr>\n",
       "    <tr>\n",
       "        <td>38167</td>\n",
       "        <td>Eat Pray Love</td>\n",
       "        <td>Eat Pray Love</td>\n",
       "        <td>60000000</td>\n",
       "        <td>28.800112</td>\n",
       "    </tr>\n",
       "    <tr>\n",
       "        <td>26389</td>\n",
       "        <td>From Paris with Love</td>\n",
       "        <td>From Paris with Love</td>\n",
       "        <td>52000000</td>\n",
       "        <td>27.916284</td>\n",
       "    </tr>\n",
       "</table>"
      ],
      "text/plain": [
       "[(50646, 'Crazy, Stupid, Love.', 'Crazy, Stupid, Love.', 50000000, 37.990705),\n",
       " (38167, 'Eat Pray Love', 'Eat Pray Love', 60000000, 28.800112),\n",
       " (26389, 'From Paris with Love', 'From Paris with Love', 52000000, 27.916284)]"
      ]
     },
     "execution_count": 34,
     "metadata": {},
     "output_type": "execute_result"
    }
   ],
   "source": [
    "%%sql\n",
    "--You have had a long day and want to sit back and enjoy a movie. Unfortunately, today you are only in\n",
    "--the mood for a very specific type of movie. It definitely needs to be in English. It should also be new, \n",
    "--something after 1 Jan 2010, but not too new as you might have seen it recently, so it must have been \n",
    "--released before 1 Jan 2016. It should also be a romantic movie, so make sure it has the word love somewhere in the title. \n",
    "--You also want it to be a big blockbuster, so the budget of the movie must be more than $10 000 000.\n",
    "\n",
    "--What is the movie with the highest popularity that meets all of your requirements?\n",
    "SELECT movie_id, title, original_title, budget, popularity\n",
    "FROM movies \n",
    "WHERE lower(original_language) LIKE '%en%' AND release_date BETWEEN '2010-01-01' AND '2016-01-01' AND lower(title) LIKE '%love%' AND budget > 10000000\n",
    "ORDER BY popularity DESC\n",
    "LIMIT 3"
   ]
  },
  {
   "cell_type": "markdown",
   "metadata": {},
   "source": [
    "As you can see, this query outputs all the columns and rows of data that exist in the customers table. "
   ]
  },
  {
   "cell_type": "markdown",
   "metadata": {
    "colab_type": "text",
    "id": "a1H5Y0JK_JjF"
   },
   "source": [
    "These \"SQL cells\" (i.e. cells with `%%sql`) come with all the standard benefits of normal notebook cells, including:\n",
    " \n",
    " - **Statefullness**: Connection context is maintained between cells, just like standard notebook cells.  \n",
    " - **Pretty-printed results:** When runnning in Jupyter, the results of SQL queries are printed in neat tabular results (similar to Pandas formatting). \n",
    " - **Hybrid Python+SQL statements:** Python and SQL code can be used interchangeably within a cell. For more info see [here](https://pypi.org/project/ipython-sql/) "
   ]
  },
  {
   "cell_type": "markdown",
   "metadata": {},
   "source": [
    "\n",
    "## Conclusion\n",
    "\n",
    "In this train, we covered how to setup a SQL database in a jupyter notebook environment and how to run basic queries to show the information stored in the tables of the given database."
   ]
  },
  {
   "cell_type": "markdown",
   "metadata": {},
   "source": [
    "## Appendix\n",
    "\n",
    "The following links may be useful for further learning around the content we've covered: \n",
    "\n",
    " - [SQLite vs. Client-server databases - Trade-off comparison](https://www.sqlite.org/whentouse.html)\n",
    " - [IPython-sql reference guide](https://pypi.org/project/ipython-sql/)"
   ]
  }
 ],
 "metadata": {
  "colab": {
   "collapsed_sections": [],
   "name": "SQL_Experimentation.ipynb",
   "provenance": []
  },
  "kernelspec": {
   "display_name": "Python 3 (ipykernel)",
   "language": "python",
   "name": "python3"
  },
  "language_info": {
   "codemirror_mode": {
    "name": "ipython",
    "version": 3
   },
   "file_extension": ".py",
   "mimetype": "text/x-python",
   "name": "python",
   "nbconvert_exporter": "python",
   "pygments_lexer": "ipython3",
   "version": "3.9.12"
  }
 },
 "nbformat": 4,
 "nbformat_minor": 1
}
